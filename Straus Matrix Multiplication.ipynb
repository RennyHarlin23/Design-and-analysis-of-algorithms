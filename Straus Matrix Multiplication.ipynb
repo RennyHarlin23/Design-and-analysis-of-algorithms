{
 "cells": [
  {
   "cell_type": "markdown",
   "id": "2f934f4f",
   "metadata": {},
   "source": [
    "# Matrix Multiplication"
   ]
  },
  {
   "cell_type": "markdown",
   "id": "912630f2",
   "metadata": {},
   "source": [
    "## Initialization"
   ]
  },
  {
   "cell_type": "code",
   "execution_count": 5,
   "id": "ff09a54b",
   "metadata": {},
   "outputs": [],
   "source": [
    "def random_mat(n):\n",
    "    C = initialize_mat(n, n)\n",
    "    for i in range(n):\n",
    "        for j in range(n):\n",
    "            C[i][j] = random.randint(0,10)\n",
    "    return C"
   ]
  },
  {
   "cell_type": "code",
   "execution_count": 6,
   "id": "a7563c38",
   "metadata": {},
   "outputs": [],
   "source": [
    "def initialize_mat(row, col):\n",
    "    return [[0]*col for _ in range(row)]"
   ]
  },
  {
   "cell_type": "code",
   "execution_count": 7,
   "id": "b73bac3b",
   "metadata": {},
   "outputs": [],
   "source": [
    "import time\n",
    "import random \n",
    "\n",
    "A = random_mat(1024)\n",
    "\n",
    "B = random_mat(1024)"
   ]
  },
  {
   "cell_type": "markdown",
   "id": "7c296d24",
   "metadata": {},
   "source": [
    "## Normal matrix multiplication"
   ]
  },
  {
   "cell_type": "code",
   "execution_count": 8,
   "id": "86c920a4",
   "metadata": {},
   "outputs": [],
   "source": [
    "def normal_matmul(A, B):\n",
    "    C = initialize_mat(len(A), len(A[0]))\n",
    "    \n",
    "    for i in range(len(A)):\n",
    "        for j in range(len(A[0])):\n",
    "            for k in range(len(A)):\n",
    "                C[i][j]+=A[i][k]*B[k][j]\n",
    "    return C"
   ]
  },
  {
   "cell_type": "markdown",
   "id": "42be4344",
   "metadata": {},
   "source": [
    "## Using recursion"
   ]
  },
  {
   "cell_type": "code",
   "execution_count": 9,
   "id": "74358451",
   "metadata": {},
   "outputs": [],
   "source": [
    "def partition(A):\n",
    "    n = len(A)\n",
    "    \n",
    "    M1 = [[0]*(n//2) for row in range(n//2)]\n",
    "    M2 = [[0]*(n//2) for row in range(n//2)]\n",
    "    M3 = [[0]*(n//2) for row in range(n//2)]\n",
    "    M4 = [[0]*(n//2) for row in range(n//2)]\n",
    "    \n",
    "    for i in range(n//2):\n",
    "        for j in range(n//2):\n",
    "            M1[i][j] = A[i][j]\n",
    "            M2[i][j] = A[i][j+n//2]\n",
    "            M3[i][j] = A[i+n//2][j]\n",
    "            M4[i][j] = A[i+n//2][j+n//2]\n",
    "    \n",
    "    return M1, M2, M3, M4"
   ]
  },
  {
   "cell_type": "code",
   "execution_count": 10,
   "id": "1ffccc97",
   "metadata": {},
   "outputs": [],
   "source": [
    "def matsum(A, B):\n",
    "    C = initialize_mat(len(A), len(A[0]))\n",
    "    \n",
    "    for i in range(len(A)):\n",
    "        for j in range(len(A[0])):\n",
    "            C[i][j] = A[i][j] + B[i][j]\n",
    "            \n",
    "    return C"
   ]
  },
  {
   "cell_type": "code",
   "execution_count": 11,
   "id": "8707e70f",
   "metadata": {},
   "outputs": [],
   "source": [
    "def concat(C, M1, M2, M3, M4):\n",
    "    n = len(C)\n",
    "    for i in range(n):\n",
    "        for j in range(n):\n",
    "            if i < n//2 and j < n//2:\n",
    "                C[i][j] = M1[i][j]\n",
    "            elif i >= n//2 and j < n//2:\n",
    "                C[i][j] = M3[i-n//2][j]\n",
    "            elif i < n//2 and j >= n//2:\n",
    "                C[i][j] = M2[i][j-n//2]\n",
    "            elif i >= n//2 and j >= n//2:\n",
    "                C[i][j] = M4[i-n//2][j-n//2]"
   ]
  },
  {
   "cell_type": "code",
   "execution_count": 12,
   "id": "51c3337a",
   "metadata": {},
   "outputs": [],
   "source": [
    "def rec_matmul(A,B):\n",
    "    n = len(A)\n",
    "    if(n == 1):\n",
    "        return [[A[0][0] * B[0][0]]]\n",
    "    \n",
    "    C = initialize_mat(n,n)\n",
    "    \n",
    "    A1, A2, A3, A4 = partition(A)\n",
    "    B1, B2, B3, B4 = partition(B)\n",
    "     \n",
    "    M1 = matsum(rec_matmul(A1, B1), rec_matmul(A2, B3))\n",
    "    M2 = matsum(rec_matmul(A1, B2), rec_matmul(A2, B4))\n",
    "    M3 = matsum(rec_matmul(A3, B1), rec_matmul(A4, B3))\n",
    "    M4 = matsum(rec_matmul(A3, B2), rec_matmul(A4, B4))\n",
    "    \n",
    "    concat(C, M1, M2, M3, M4)\n",
    "    \n",
    "    return C"
   ]
  },
  {
   "cell_type": "markdown",
   "id": "366267ad",
   "metadata": {},
   "source": [
    "## Straussen's algorithm"
   ]
  },
  {
   "cell_type": "code",
   "execution_count": 13,
   "id": "1cabbd71",
   "metadata": {},
   "outputs": [],
   "source": [
    "def matdiff(A, B):\n",
    "    C = initialize_mat(len(A), len(A[0]))\n",
    "    \n",
    "    for i in range(len(A)):\n",
    "        for j in range(len(A[0])):\n",
    "            C[i][j] = A[i][j] - B[i][j]\n",
    "            \n",
    "    return C"
   ]
  },
  {
   "cell_type": "code",
   "execution_count": 14,
   "id": "6fbf3440",
   "metadata": {},
   "outputs": [],
   "source": [
    "def straussen_matmul(A, B):\n",
    "    n = len(A)\n",
    "    if(n == 1):\n",
    "        return [[A[0][0] * B[0][0]]]\n",
    "    \n",
    "    C = initialize_mat(n, n)\n",
    "    \n",
    "    A1, A2, A3, A4 = partition(A)\n",
    "    B1, B2, B3, B4 = partition(B)\n",
    "    \n",
    "    S1 = matdiff(B2, B4)\n",
    "    S2 = matsum(A1, A2)\n",
    "    S3 = matsum(A3, A4)\n",
    "    S4 = matdiff(B3, B1)\n",
    "    S5 = matsum(A1, A4)\n",
    "    S6 = matsum(B1, B4)\n",
    "    S7 = matdiff(A2, A4)\n",
    "    S8 = matsum(B3, B4)\n",
    "    S9 = matdiff(A1, A3)\n",
    "    S10 = matsum(B1, B2)\n",
    "    \n",
    "    P1 = straussen_matmul(A1, S1)\n",
    "    P2 = straussen_matmul(S2, B4)\n",
    "    P3 = straussen_matmul(S3, B1)\n",
    "    P4 = straussen_matmul(A4, S4)\n",
    "    P5 = straussen_matmul(S5, S6)\n",
    "    P6 = straussen_matmul(S7, S8)\n",
    "    P7 = straussen_matmul(S9, S10)\n",
    "    \n",
    "    C1 = matsum(matdiff(matsum(P5, P4), P2), P6)\n",
    "    C2 = matsum(P1, P2)\n",
    "    C3 = matsum(P3, P4)\n",
    "    C4 = matdiff(matdiff(matsum(P5, P1), P3), P7)\n",
    "    \n",
    "    concat(C, C1, C2, C3, C4)\n",
    "    \n",
    "    return C"
   ]
  },
  {
   "cell_type": "code",
   "execution_count": null,
   "id": "a8e361c6",
   "metadata": {},
   "outputs": [],
   "source": [
    "start_time = time.time()\n",
    "straussen_matmul(A, B)\n",
    "end_time = time.time()\n",
    "\n",
    "execution_time = end_time - start_time\n",
    "print(f\"Execution time: {execution_time} seconds\")"
   ]
  },
  {
   "cell_type": "code",
   "execution_count": null,
   "id": "578a8615",
   "metadata": {},
   "outputs": [],
   "source": [
    "start_time = time.time()\n",
    "rec_matmul(A, B)\n",
    "end_time = time.time()\n",
    "\n",
    "execution_time = end_time - start_time\n",
    "print(f\"Execution time: {execution_time} seconds\")"
   ]
  },
  {
   "cell_type": "code",
   "execution_count": null,
   "id": "6ec311e9",
   "metadata": {},
   "outputs": [],
   "source": [
    "start_time = time.time()\n",
    "normal_matmul(A, B)\n",
    "end_time = time.time()\n",
    "\n",
    "execution_time = end_time - start_time\n",
    "print(f\"Execution time: {execution_time} seconds\")"
   ]
  },
  {
   "cell_type": "code",
   "execution_count": null,
   "id": "2ab38f66",
   "metadata": {},
   "outputs": [],
   "source": []
  }
 ],
 "metadata": {
  "kernelspec": {
   "display_name": "myenv",
   "language": "python",
   "name": "myenv"
  },
  "language_info": {
   "codemirror_mode": {
    "name": "ipython",
    "version": 3
   },
   "file_extension": ".py",
   "mimetype": "text/x-python",
   "name": "python",
   "nbconvert_exporter": "python",
   "pygments_lexer": "ipython3",
   "version": "3.12.3"
  }
 },
 "nbformat": 4,
 "nbformat_minor": 5
}
